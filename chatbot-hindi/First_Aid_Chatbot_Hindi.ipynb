{
  "cells": [
    {
      "cell_type": "markdown",
      "source": [
        "# Training a Chatbot in Hindi using iNLTK\n",
        "iNLTK aims to provide out of the box support for various NLP tasks that an application developer might need in Indic Languages"
      ],
      "metadata": {
        "id": "JdXkCPojYoFT"
      }
    },
    {
      "cell_type": "code",
      "source": [
        "pip install inltk"
      ],
      "metadata": {
        "id": "mGJVKp3PYkgy"
      },
      "execution_count": null,
      "outputs": []
    },
    {
      "cell_type": "code",
      "source": [
        "pip install tflearn"
      ],
      "metadata": {
        "id": "zDeC-1_h_OfK"
      },
      "execution_count": null,
      "outputs": []
    },
    {
      "cell_type": "code",
      "source": [
        "from inltk.inltk import setup\n",
        "from inltk.inltk import tokenize"
      ],
      "metadata": {
        "id": "zGZe8L7a_rAP"
      },
      "execution_count": 8,
      "outputs": []
    },
    {
      "cell_type": "code",
      "source": [
        "setup('hi')"
      ],
      "metadata": {
        "id": "yU3wRapyF0ZW"
      },
      "execution_count": null,
      "outputs": []
    },
    {
      "cell_type": "code",
      "execution_count": 11,
      "metadata": {
        "id": "K2FbjK2WawZU",
        "colab": {
          "base_uri": "https://localhost:8080/"
        },
        "outputId": "f75f3b62-336e-477e-9947-bcb093c62513"
      },
      "outputs": [
        {
          "output_type": "stream",
          "name": "stdout",
          "text": [
            "WARNING:tensorflow:From /usr/local/lib/python3.7/dist-packages/tensorflow/python/compat/v2_compat.py:107: disable_resource_variables (from tensorflow.python.ops.variable_scope) is deprecated and will be removed in a future version.\n",
            "Instructions for updating:\n",
            "non-resource variables are not supported in the long term\n"
          ]
        }
      ],
      "source": [
        "# Importing all the necessary modules\n",
        "import numpy\n",
        "import tflearn\n",
        "import tensorflow\n",
        "import random\n",
        "import json\n",
        "import pickle"
      ]
    },
    {
      "cell_type": "code",
      "source": [
        "# Load the data\n",
        "with open(\"firstaid_hindi.json\") as file:\n",
        "    data = json.load(file)"
      ],
      "metadata": {
        "id": "IwGIJtpFbAe9"
      },
      "execution_count": 19,
      "outputs": []
    },
    {
      "cell_type": "code",
      "source": [
        "words = []\n",
        "labels = []\n",
        "docs_x = []\n",
        "docs_y = []\n",
        "\n",
        "for intent in data[\"intents\"]:\n",
        "\tfor pattern in intent[\"patterns\"]:\n",
        "\t\twrds = tokenize(pattern, 'hi')\n",
        "\t\twords.extend(wrds)\n",
        "\t\tdocs_x.append(wrds)\n",
        "\t\tdocs_y.append(intent[\"tag\"])\n",
        "\n",
        "\tif intent[\"tag\"] not in labels:\n",
        "\t\tlabels.append(intent[\"tag\"])\n",
        "\n",
        "words = [w for w in words if w != \"?\"]\n",
        "\n",
        "labels = sorted(labels)\n",
        "\n",
        "training = []\n",
        "output = []\n",
        "\n",
        "out_empty = [0 for _ in range(len(labels))]\n",
        "\n",
        "for x, doc in enumerate(docs_x):\n",
        "\tbag = []\n",
        "\n",
        "\twrds = [(w) for w in doc]\n",
        "\n",
        "\tfor w in words:\n",
        "\t\tif w in wrds:\n",
        "\t\t\tbag.append(1)\n",
        "\t\telse:\n",
        "\t\t\tbag.append(0)\n",
        "\toutput_row = out_empty[:]\n",
        "\toutput_row[labels.index(docs_y[x])] = 1\n",
        "\n",
        "\ttraining.append(bag)\n",
        "\toutput.append(output_row)\n",
        "\n",
        "training = numpy.array(training)\n",
        "output = numpy.array(output)"
      ],
      "metadata": {
        "id": "TMuVwhhqbOkS"
      },
      "execution_count": 21,
      "outputs": []
    },
    {
      "cell_type": "code",
      "source": [
        "tensorflow.compat.v1.reset_default_graph()\n",
        "\n",
        "net = tflearn.input_data(shape=[None, len(training[0])])\n",
        "net = tflearn.fully_connected(net, 8)\n",
        "net = tflearn.fully_connected(net, 8)\n",
        "net = tflearn.fully_connected(net, len(output[0]), activation=\"softmax\")\n",
        "net = tflearn.regression(net)\n",
        "\n",
        "model = tflearn.DNN(net)"
      ],
      "metadata": {
        "id": "tBY1Kh9hbXV5"
      },
      "execution_count": null,
      "outputs": []
    },
    {
      "cell_type": "code",
      "source": [
        "try:\n",
        "\tmodel.load(\"firstaid_hindi_model.tflearn\")\n",
        "except:\n",
        "\tmodel = tflearn.DNN(net)\n",
        "\tmodel.fit(training, output, n_epoch=1000, batch_size=8, show_metric=True)\n",
        "\tmodel.save(\"firstaid_hindi_model.tflearn\")"
      ],
      "metadata": {
        "colab": {
          "base_uri": "https://localhost:8080/"
        },
        "id": "13eNImIrbYBF",
        "outputId": "e261cccf-d53d-4f6b-a9c7-c264bcf91881"
      },
      "execution_count": 23,
      "outputs": [
        {
          "output_type": "stream",
          "name": "stdout",
          "text": [
            "Training Step: 1999  | time: 0.003s\n",
            "| Adam | epoch: 1000 | loss: 0.00000 - acc: 1.0000 -- iter: 08/16\n",
            "Training Step: 2000  | time: 0.014s\n",
            "| Adam | epoch: 1000 | loss: 0.00000 - acc: 1.0000 -- iter: 16/16\n",
            "--\n",
            "INFO:tensorflow:/content/firstaid_hindi_model.tflearn is not in all_model_checkpoint_paths. Manually adding it.\n"
          ]
        }
      ]
    },
    {
      "cell_type": "code",
      "execution_count": 24,
      "metadata": {
        "id": "DgCjs1DldrvO"
      },
      "outputs": [],
      "source": [
        "def bag_of_words(s,words):\n",
        "\tbag = [0 for _ in range(len(words))]\n",
        "\n",
        "\n",
        "\ts_words = tokenize(s, 'hi')\n",
        "\n",
        "\tfor se in s_words:\n",
        "\t\tfor i, w in enumerate(words):\n",
        "\t\t\tif w == se:\n",
        "\t\t\t\tbag[i] = 1\n",
        "\n",
        "\treturn numpy.array(bag)"
      ]
    },
    {
      "cell_type": "code",
      "execution_count": 25,
      "metadata": {
        "id": "cOjaEXXq47r0"
      },
      "outputs": [],
      "source": [
        "def chat():\n",
        "\tprint(\"Start Talking with the bot(type quit to stop!\")\n",
        "\twhile True:\n",
        "\t\tinp = input(\"You: \")\n",
        "\t\tif inp.lower() == \"quit\":\n",
        "\t\t\tbreak\n",
        "\n",
        "\t\tresults = model.predict([bag_of_words(inp,words)])[0]\n",
        "\t\tresults_index = numpy.argmax(results)\n",
        "\t\ttag = labels[results_index]\n",
        "\n",
        "\t\tif results[results_index] > 0.5:\n",
        "\t\t\tfor tg in data[\"intents\"]:\n",
        "\t\t\t\tif tg['tag'] == tag:\n",
        "\t\t\t\t\tresponses = tg['responses']\n",
        "\t\t\tprint(random.choice(responses))\n",
        "\t\t\tprint(\"\\n\")\n",
        "\n",
        "\t\telse:\n",
        "\t\t\tprint(\"मुझे समझ नहीं आया, कृपया फिर से टाईप करें।\")"
      ]
    },
    {
      "cell_type": "code",
      "source": [
        "chat() "
      ],
      "metadata": {
        "colab": {
          "base_uri": "https://localhost:8080/"
        },
        "id": "tA2D8jFqadlQ",
        "outputId": "2c874ab9-85eb-4f23-b5d9-9d0f86ba0284"
      },
      "execution_count": 27,
      "outputs": [
        {
          "name": "stdout",
          "output_type": "stream",
          "text": [
            "Start Talking with the bot(type quit to stop!\n",
            "You: हड्डी टूटना\n",
            "1) अस्थिभंग (fracture) वाले स्थान को पटरियों तथा अन्य उपायों से अचल बनाए बिना रोगी को स्थानांतरित न करें। 2) चोट के स्थान से यदि रक्तस्त्राव हो रहा हो तो प्रथमतः उसका उपचार करें। 3) बड़ी चौकसी के साथ बिना बल लगाए, अंग को यथासाध्य अपने स्वभाविक स्थान पर बैठा दें। 4) चपतियों (splints), पट्टियों (bandages) और लटकानेवाली पट्टियों, अर्थात् झोलों, के प्रयोग से भग्न अस्थिवाले भाग को यथासंभव स्वाभाविक स्थान पर बनाए रखने की चेष्टा करें। 5) जब संशय हो कि हड्डी टूटी है या नहीं, तब भी उपचार उसी भाँति करें जैसा हड्डी टूटने पर होना चाहिए।\n",
            "\n",
            "\n",
            "You: अचेतनावस्था\n",
            "बेहोशी पैदा करनेवाले कारणों से घायल को दूर कर देना तथा अचेतनावस्था के उपचार के साधारण नियमों को यथासंभव काम में लाना चाहिए।\n",
            "\n",
            "\n",
            "You: quit\n"
          ]
        }
      ]
    },
    {
      "cell_type": "code",
      "source": [
        ""
      ],
      "metadata": {
        "id": "LT3mhVvocNHk"
      },
      "execution_count": null,
      "outputs": []
    }
  ],
  "metadata": {
    "colab": {
      "name": "First Aid Chatbot - Hindi.ipynb",
      "provenance": []
    },
    "kernelspec": {
      "display_name": "chatbots:Python",
      "language": "python",
      "name": "conda-env-chatbots-py"
    },
    "language_info": {
      "codemirror_mode": {
        "name": "ipython",
        "version": 3
      },
      "file_extension": ".py",
      "mimetype": "text/x-python",
      "name": "python",
      "nbconvert_exporter": "python",
      "pygments_lexer": "ipython3",
      "version": "3.10.2"
    }
  },
  "nbformat": 4,
  "nbformat_minor": 0
}